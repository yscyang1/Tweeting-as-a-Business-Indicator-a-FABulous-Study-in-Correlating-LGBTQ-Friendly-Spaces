{
 "cells": [
  {
   "cell_type": "markdown",
   "metadata": {},
   "source": [
    "### Tweeting as a Business Indicator: a FABulous Study in Correlating LGBTQ+ Friendly Spaces\n",
    "What goes into creating a business?  I'm sure there are lots of factors, including but not limited to funding, location, and licenses.  And opening a business isn't exactly a ticket to riches either.  According to the [U.S. Bureau of Labor Statistics](https://www.bls.gov/bdm/us_age_naics_00_table7.txt), about 80% of businesses survive the first year, and less than half survive after 5 years.  \n",
    "\n",
    "What if you're trying to open an LGBTQ+ friendly business?  The government doesn't have a nice handy chart that distinguishes if a business if LGBTQ+ friendly or not, but I did find the [National Gay & Lesbian Chamber of Commerce (NGLCC)](https://www.nglcc.org/), which certifies businesses as LGBT Business Enterprieses (LGBTBEs) if certain conditions are met.  In a [report](http://nglcc.org/sites/default/files/%5BREPORT%5D%20NGLCC%20Americas%20LGBT%20Economy%20.pdf), they claim that although half of normal businesses fail after 5 years, the average lifetime of LGBTBEs is 12 years.  \n",
    "\n",
    "While this is encouraging, is this representative of all LGBTQ+ friendly spaces?  I'm not sure, especially given that not everyone may have heard of this organization, and its possible to be an LGBTQ+ friendly business without meeting LGBTBE requirements.  This is the data I was able to gather.  In the following table I show the age of the business, percent of certified LGBTBEs, and the percent of businesses in the US in 2016.  \n",
    "\n",
    "| Age of Business as of 2016 | Percent of LGBTBEs   | Percent of Businesses in US   |\n",
    "|------|------|------|\n",
    "|   0-1  | 9| 21|\n",
    "|   2-5  | 27| 25|\n",
    "|   6-10  | 23| 19|\n",
    "|   11-20  | 26| 26|\n",
    "|   21+  | 15| 9|\n",
    "\n",
    "The table can be broken down into three parts.  \n",
    "1.  First, the percents for LGBTBEs and non-LGBTBEs are similar for businesses aged 2-20.  \n",
    "2.  Second, the last row shows ages of businesses that are 21 years or older.  The number is much higher for LGBTBEs (almost double) but that might be because the number of LGBTBEs goes back to 1919 whereas the number of non-LGBTBEs only goes back to 1994.  \n",
    "3.  Lastly, the percentages of businesses in their first year of existance.  You should notice the number for LGBTBEs is much lower than that of national percent, a little under half.   \n",
    "\n",
    "What's going on with those LGBTBE certified businesses? Why is their percent so low compared to the national percent?  I can think of a few reasons why:\n",
    "-  The owners aren't aware of the certification\n",
    "-  The business failed earlier than average\n",
    "-  The business is not eligible for certification\n",
    "-  Not that many LGBT friendly spaces are starting up\n",
    "\n",
    "Really we can sit around thinking up more reasons.  But what I can say is that there is a lack of LGBT friendly spaces around the country, and I want to do something about it."
   ]
  },
  {
   "cell_type": "markdown",
   "metadata": {},
   "source": [
    "### The Idea\n",
    "When opening up a businesses, you're going to want everything going your way.  For LGBTQ+ friendly businesses in particular, that means you're going to want to know what the social climate is regarding LGBTQ+ rights is in that area.  How can you figure out this information?  Twitter has an abundance of opinions, many of which are conveniently labeled with hashtags that I can search for.  These tweets can be categorized as negative or positive sentiments.  In addition, for a lot of bigger cities, Yelp can give an idea of how many LGBTQ+ friendly places there are in a city. By combining Twitter and Yelp data, **can I find a correlation between number of LGBTQ+ friendly businesses and the ratio of positive:negative tweets in a city?**"
   ]
  },
  {
   "cell_type": "markdown",
   "metadata": {},
   "source": [
    "### Potential Problems and Biases\n",
    "**Yelp**  \n",
    "While I think using Yelp to find the number of businesses is a good first step, it may not encompass all the LGBTQ+ friendly businesses in the area, since it relies on people's reviews and whatever keywords they use.  In addition, while Yelp has come a long way and has expanded to non-food services, it is still food dominated.  How about all those LGBTQ+ friendly lawyers, health practitioners, or tailors?  In a future iteration, it would help to get a more encompassing picture of the businesses by combining information from other platforms or a Google search.  \n",
    "\n",
    "Another thing to watch out for are false positives on LGBTQ+ friendly businesses.  This could come from a number of things, such as a coffee shop used to host LGBTQ+ night but then changed ownership and stopped hosting that.  Or it could even come from a psychologist practicing conversion therapy, which is definitely NOT LGBTQ+ friendly at all.  \n",
    "\n",
    "**Twitter**  \n",
    "Twitter is all about hashtags, so my biggest concern (right now) is finding the appropriate hashtags to find positive and negative tweets regarding LGBTQ+.  \n",
    "\n",
    "**Covid-19**  \n",
    "Lastly, I'm starting this project in the midst of the Covid-19 pandemic.  Businesses are shut down for the most part, but for the moment I believe businesses aren't being removed (or added) to Yelp since we're all under orders to stay at home.  The content and number of tweets however might be different from pre-pandemic times.  This would have to be revisited when the world becomes more 'normal'."
   ]
  },
  {
   "cell_type": "code",
   "execution_count": null,
   "metadata": {},
   "outputs": [],
   "source": []
  }
 ],
 "metadata": {
  "anaconda-cloud": {},
  "kernelspec": {
   "display_name": "Python [default]",
   "language": "python",
   "name": "python3"
  },
  "language_info": {
   "codemirror_mode": {
    "name": "ipython",
    "version": 3
   },
   "file_extension": ".py",
   "mimetype": "text/x-python",
   "name": "python",
   "nbconvert_exporter": "python",
   "pygments_lexer": "ipython3",
   "version": "3.5.2"
  }
 },
 "nbformat": 4,
 "nbformat_minor": 1
}
